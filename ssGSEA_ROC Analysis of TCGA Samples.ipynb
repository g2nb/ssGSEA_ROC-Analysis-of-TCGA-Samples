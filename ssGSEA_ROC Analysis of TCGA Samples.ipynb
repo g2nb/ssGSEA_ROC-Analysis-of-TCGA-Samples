{
 "cells": [
  {
   "cell_type": "markdown",
   "metadata": {},
   "source": [
    "# Calculation of AUROCs from Single-sample GSEA projection (ssGSEA) on TCGA Data "
   ]
  },
  {
   "cell_type": "markdown",
   "metadata": {},
   "source": [
    "## Background"
   ]
  },
  {
   "cell_type": "markdown",
   "metadata": {},
   "source": [
    "Traditional gene set enrichment analysis (GSEA)<sup>5</sup> assesses the differential coordinate up- or down-regulation of a biological process or pathway between groups of samples belonging to two phenotypes. However, this method requires samples to be normalized for between sample comparisons, and does not allow the post-hoc assignment of a new sample to a phenotype group. In contrast, single-sample GSEA (ssGSEA)<sup>1</sup> allows the ability to assess the enrichment of gene sets in individual samples independently, but does not natively perform cross-phenotype comparisons. Through the use of receiver operating characteristic (ROC)<sup>4</sup> analysis, <b>this notebook performs cross-phenotype comparisons on ssGSEA quantifications to determine which gene sets are significantly differentially enriched between two phenotype groups</b>, and determines threshold values by which additional samples with unknown phenotypes can be assigned to one of the known groups. This method was first used to characterize the relationship between high expression of MTOR and the expression of a predictive drug response signature in Glioblastoma samples<sup>2</sup>.\n",
    "\n",
    "First, samples are selected from TCGA based on expression levels of a marker gene (High expression and Low Expression). Second, ssGSEA is used to project each single sample’s full gene expression profile into the space of gene sets. It does this via *enrichment scores*, which represent the degree to which the genes in each particular gene set are coordinately up- or down- regulated within that sample.\n",
    "\n",
    "Finally, the enrichment scores and the binary phenotype of High vs. Low expression of the selected marker gene are used to calculate the receiver operating characteristic (ROC) for each gene set, the area under the ROC curve (AUC), and the Matthews correlation coefficient (MCC)<sup>3</sup>. These metrics describe how well enrichment of a given gene set tracks with the defined phenotype (e.g. if a given signaling pathway is significantly differentially enriched in samples highly expressing vs. samples lowly expressing a gene of interest).\n",
    "\n",
    "Since ssGSEA scores are determined on a per-sample basis, and each sample is individually normalized (for example, by transcripts per million), once a gene set is determined to be a good classifier based on the AUC and the MCC, new samples can be assigned to groups post-hoc based their ssGSEA enrichment score using a cutoff threshold (Youden's J statistic) if their true phenotype is unknown.\n",
    "\n",
    "Note that while this notebook retrieves expression data from TCGA for use with ssGSEA_ROC, the ssGSEA_ROC method can be used with any ssGSEA compatible dataset starting from the \"Project gene expression dataset...\" section of the Stepwise Analysis with Descriptions section."
   ]
  },
  {
   "cell_type": "markdown",
   "metadata": {},
   "source": [
    "## Before you begin"
   ]
  },
  {
   "cell_type": "markdown",
   "metadata": {},
   "source": [
    "You must log in to a GenePattern server. In this notebook we will use **```GenePattern Cloud```**\n",
    "\n",
    "Note: if you are not familiar with GenePattern Notebook features, you can review them here: <a href=\"https://notebook.genepattern.org/services/sharing/notebooks/361/preview/\">GenePattern Notebook Tutorial</a>."
   ]
  },
  {
   "cell_type": "markdown",
   "metadata": {},
   "source": [
    "<div class=\"alert alert-info\">\n",
    "<p class=\"lead\"> Instructions <i class=\"fa fa-info-circle\"></i></p>\n",
    "Sign in to GenePattern by entering your username and password into the form below.\n",
    "</div>"
   ]
  },
  {
   "cell_type": "code",
   "execution_count": 8,
   "metadata": {
    "genepattern": {
     "name": "Login",
     "server": "https://cloud.genepattern.org/gp",
     "show_code": true,
     "type": "auth"
    },
    "scrolled": true
   },
   "outputs": [
    {
     "data": {
      "application/vnd.jupyter.widget-view+json": {
       "model_id": "504a58dd9ef948f098953918630f192f",
       "version_major": 2,
       "version_minor": 0
      },
      "text/plain": [
       "GPAuthWidget()"
      ]
     },
     "metadata": {},
     "output_type": "display_data"
    }
   ],
   "source": [
    "# Requires GenePattern Notebook: pip install genepattern-notebook\n",
    "import gp\n",
    "import genepattern\n",
    "\n",
    "# Username and password removed for security reasons.\n",
    "genepattern.display(genepattern.session.register(\"https://cloud.genepattern.org/gp\", \"\", \"\"))"
   ]
  },
  {
   "cell_type": "markdown",
   "metadata": {},
   "source": [
    "# One Step Analysis\n",
    "Select this option to run the entire analysis pipeline automatically in one step. This requires minimal user intervention and is recomended for users already familiar with the principles of ssGSEA and ROC analysis and who don't need to modify ssGSEA's default parameters."
   ]
  },
  {
   "cell_type": "code",
   "execution_count": 9,
   "metadata": {
    "genepattern": {
     "description": "Pipeline for ssGSEA_ROC analysis of TCGA samples",
     "name": "TCGA.ssGSEA.ROC",
     "param_values": {
      "TCGA.SampleSelection1.Gene.Symbol": null,
      "TCGA.SampleSelection1.High.Expression": null,
      "TCGA.SampleSelection1.Low.Expression": null,
      "TCGA.SampleSelection1.MSigDB.Version": null,
      "TCGA.SampleSelection1.TCGA.Collection": null,
      "job.cpuCount": null,
      "job.memory": null,
      "job.queue": null,
      "job.walltime": null,
      "ssGSEA2.gene.sets.database.files": [],
      "ssGSEA_ROC3.Plot.Top.Results": null,
      "ssGSEA_ROC3.Reverse": null
     },
     "type": "task"
    }
   },
   "outputs": [
    {
     "data": {
      "application/vnd.jupyter.widget-view+json": {
       "model_id": "5f809440b30741d694c3e4fde418578d",
       "version_major": 2,
       "version_minor": 0
      },
      "text/plain": [
       "GPTaskWidget(lsid='urn:lsid:8080.gpserver.ip-172-31-26-71.ip-172-31-26-71.ec2.internal:genepatternmodules:689'…"
      ]
     },
     "metadata": {},
     "output_type": "display_data"
    }
   ],
   "source": [
    "tcga_ssgsea_roc_task = gp.GPTask(genepattern.session.get(0), 'urn:lsid:8080.gpserver.ip-172-31-26-71.ip-172-31-26-71.ec2.internal:genepatternmodules:689')\n",
    "tcga_ssgsea_roc_job_spec = tcga_ssgsea_roc_task.make_job_spec()\n",
    "tcga_ssgsea_roc_job_spec.set_parameter(\"TCGA.SampleSelection1.TCGA.Collection\", \"GBM\")\n",
    "tcga_ssgsea_roc_job_spec.set_parameter(\"TCGA.SampleSelection1.Gene.Symbol\", \"MTOR\")\n",
    "tcga_ssgsea_roc_job_spec.set_parameter(\"TCGA.SampleSelection1.High.Expression\", \"1\")\n",
    "tcga_ssgsea_roc_job_spec.set_parameter(\"TCGA.SampleSelection1.Low.Expression\", \"-1\")\n",
    "tcga_ssgsea_roc_job_spec.set_parameter(\"TCGA.SampleSelection1.MSigDB.Version\", \"latest\")\n",
    "tcga_ssgsea_roc_job_spec.set_parameter(\"ssGSEA2.gene.sets.database.files\", \"\")\n",
    "tcga_ssgsea_roc_job_spec.set_parameter(\"ssGSEA_ROC3.Reverse\", \"FALSE\")\n",
    "tcga_ssgsea_roc_job_spec.set_parameter(\"ssGSEA_ROC3.Plot.Top.Results\", \"20\")\n",
    "tcga_ssgsea_roc_job_spec.set_parameter(\"job.memory\", \"2 Gb\")\n",
    "tcga_ssgsea_roc_job_spec.set_parameter(\"job.queue\", \"gp-cloud-default\")\n",
    "tcga_ssgsea_roc_job_spec.set_parameter(\"job.cpuCount\", \"1\")\n",
    "tcga_ssgsea_roc_job_spec.set_parameter(\"job.walltime\", \"02:00:00\")\n",
    "genepattern.display(tcga_ssgsea_roc_task)"
   ]
  },
  {
   "cell_type": "markdown",
   "metadata": {},
   "source": [
    "# Stepwise Analysis with Descriptions\n",
    "Select this option to run each step of the analysis pipeline separately. This is ideal for first time users, users who would like more detailed information about each step of the analysis, or users who wish to exercise more fine-grained control over step parameters."
   ]
  },
  {
   "cell_type": "markdown",
   "metadata": {},
   "source": [
    "## Select TCGA Samples Based on Expression Level Criteria"
   ]
  },
  {
   "cell_type": "markdown",
   "metadata": {},
   "source": [
    "We will use the GenePattern TCGA.SampleSelection module to retrieve TCGA datasets, then automatically select samples from within that dataset depending on their expression level of a specific gene of interest. This data will be returned as a .GCT file containing the selected samples, and a .CLS file containing the Sample to Gene Level (High expression vs. Low expression) assignments."
   ]
  },
  {
   "cell_type": "code",
   "execution_count": 10,
   "metadata": {
    "genepattern": {
     "description": "Retrieve TCGA data from Broad Firehose and perform sample selection on the basis of expression levels for specific genes of interest for analysis using GSEA tools.",
     "name": "TCGA.SampleSelection",
     "param_values": {
      "Gene.Symbol": null,
      "High.Expression": null,
      "Low.Expression": null,
      "MSigDB.Version": null,
      "Output.Type": null,
      "TCGA.Collection": null,
      "job.cpuCount": null,
      "job.memory": null,
      "job.queue": null,
      "job.walltime": null
     },
     "show_code": false,
     "type": "task"
    }
   },
   "outputs": [
    {
     "data": {
      "application/vnd.jupyter.widget-view+json": {
       "model_id": "0732455a61994b1c80e715507f946b35",
       "version_major": 2,
       "version_minor": 0
      },
      "text/plain": [
       "GPTaskWidget(lsid='urn:lsid:genepattern.org:module.analysis:00417')"
      ]
     },
     "metadata": {},
     "output_type": "display_data"
    }
   ],
   "source": [
    "tcga_sampleselection_task = gp.GPTask(genepattern.session.get(0), 'urn:lsid:genepattern.org:module.analysis:00417')\n",
    "tcga_sampleselection_job_spec = tcga_sampleselection_task.make_job_spec()\n",
    "tcga_sampleselection_job_spec.set_parameter(\"TCGA.Collection\", \"GBM\")\n",
    "tcga_sampleselection_job_spec.set_parameter(\"Gene.Symbol\", \"MTOR\")\n",
    "tcga_sampleselection_job_spec.set_parameter(\"High.Expression\", \"1\")\n",
    "tcga_sampleselection_job_spec.set_parameter(\"Low.Expression\", \"-1\")\n",
    "tcga_sampleselection_job_spec.set_parameter(\"Output.Type\", \"scaled_estimate\")\n",
    "tcga_sampleselection_job_spec.set_parameter(\"MSigDB.Version\", \"7.4\")\n",
    "tcga_sampleselection_job_spec.set_parameter(\"job.memory\", \"4 Gb\")\n",
    "tcga_sampleselection_job_spec.set_parameter(\"job.queue\", \"gp-new-beta\")\n",
    "tcga_sampleselection_job_spec.set_parameter(\"job.cpuCount\", \"1\")\n",
    "tcga_sampleselection_job_spec.set_parameter(\"job.walltime\", \"02:00:00\")\n",
    "genepattern.display(tcga_sampleselection_task)"
   ]
  },
  {
   "cell_type": "markdown",
   "metadata": {},
   "source": [
    "## Project gene expression dataset into the space of selected gene sets"
   ]
  },
  {
   "cell_type": "markdown",
   "metadata": {},
   "source": [
    "We will use the GenePattern ssGSEA analysis module to transform a gene expression dataset into a dataset where each row corresponds to a pathway, and each column is a sample. Each value in the new dataset will therefore represent the up- or downregulation of a pathway (row) within a sample (column)."
   ]
  },
  {
   "cell_type": "markdown",
   "metadata": {},
   "source": [
    "<div class=\"alert alert-info\">\n",
    "<p class=\"lead\"> Instructions <i class=\"fa fa-info-circle\"></i></p>\n",
    "\n",
    "Provide the required parameters for the ssGSEA module below.\n",
    "\n",
    "- For the **input gct file*** parameter, click on the dropdown and select output of the TCGA.SampleSelection module (it should end with `.gct`).\n",
    "- For a detailed description of the parameters you can read the <a href='https://gsea-msigdb.github.io/ssGSEA-gpmodule/v10/index.html'>parameter documentation</a>.\n",
    "- For a description of the <strong><em>gene sets database files*</em></strong> parameter options, visit <a href=\"https://www.gsea-msigdb.org/gsea/msigdb/index.jsp\">the MSigDB webpage</a>.\n",
    "- Click <strong><em>Run</em></strong> on the analysis below.</li>\n",
    "</div>"
   ]
  },
  {
   "cell_type": "code",
   "execution_count": 11,
   "metadata": {
    "genepattern": {
     "param_values": {
      "combine.mode": null,
      "gene.set.selection": null,
      "gene.sets.database.files": null,
      "gene.symbol.column": null,
      "input.gct.file": null,
      "job.cpuCount": null,
      "job.memory": null,
      "job.queue": null,
      "job.walltime": null,
      "min.gene.set.size": null,
      "output.file.prefix": null,
      "sample.normalization.method": null,
      "weighting.exponent": null
     },
     "show_code": true,
     "type": "task"
    },
    "scrolled": true
   },
   "outputs": [
    {
     "data": {
      "application/vnd.jupyter.widget-view+json": {
       "model_id": "dca9ea6fc94f4fc6b50911d8824685f0",
       "version_major": 2,
       "version_minor": 0
      },
      "text/plain": [
       "GPTaskWidget(lsid='urn:lsid:broad.mit.edu:cancer.software.genepattern.module.analysis:00270')"
      ]
     },
     "metadata": {},
     "output_type": "display_data"
    }
   ],
   "source": [
    "ssgsea_task = gp.GPTask(genepattern.session.get(0), 'urn:lsid:broad.mit.edu:cancer.software.genepattern.module.analysis:00270')\n",
    "ssgsea_job_spec = ssgsea_task.make_job_spec()\n",
    "ssgsea_job_spec.set_parameter(\"input.gct.file\", \"\")\n",
    "ssgsea_job_spec.set_parameter(\"output.file.prefix\", \"\")\n",
    "ssgsea_job_spec.set_parameter(\"gene.sets.database.files\", \"\")\n",
    "ssgsea_job_spec.set_parameter(\"gene.symbol.column\", \"Name\")\n",
    "ssgsea_job_spec.set_parameter(\"gene.set.selection\", \"ALL\")\n",
    "ssgsea_job_spec.set_parameter(\"sample.normalization.method\", \"none\")\n",
    "ssgsea_job_spec.set_parameter(\"weighting.exponent\", \"0.75\")\n",
    "ssgsea_job_spec.set_parameter(\"min.gene.set.size\", \"10\")\n",
    "ssgsea_job_spec.set_parameter(\"combine.mode\", \"combine.off\")\n",
    "ssgsea_job_spec.set_parameter(\"job.memory\", \"2 Gb\")\n",
    "ssgsea_job_spec.set_parameter(\"job.queue\", \"gp-new-beta\")\n",
    "ssgsea_job_spec.set_parameter(\"job.cpuCount\", \"1\")\n",
    "ssgsea_job_spec.set_parameter(\"job.walltime\", \"02:00:00\")\n",
    "genepattern.display(ssgsea_task)"
   ]
  },
  {
   "cell_type": "markdown",
   "metadata": {},
   "source": [
    "## Visualize projected pathways as a heat map"
   ]
  },
  {
   "cell_type": "markdown",
   "metadata": {},
   "source": [
    "We will use the GenePattern HeatMapViewer module to visualize the resulting projection of genes into pathways."
   ]
  },
  {
   "cell_type": "markdown",
   "metadata": {},
   "source": [
    "<div class=\"alert alert-info\">\n",
    "<p class=\"lead\"> Instructions <i class=\"fa fa-info-circle\"></i></p>\n",
    "    \n",
    "- In the **dataset** parameter below, click on the dropdown and select output of the ssGSEA module (it should end with `.PROJ.gct`).\n",
    "- Click **Run**.\n",
    "</div>"
   ]
  },
  {
   "cell_type": "code",
   "execution_count": 12,
   "metadata": {
    "genepattern": {
     "param_values": {
      "dataset": null,
      "job.cpuCount": null,
      "job.memory": null,
      "job.queue": null,
      "job.walltime": null
     },
     "type": "task"
    },
    "scrolled": false
   },
   "outputs": [
    {
     "data": {
      "application/vnd.jupyter.widget-view+json": {
       "model_id": "ee15f2c5dc1e4cba8673f77c681fb38b",
       "version_major": 2,
       "version_minor": 0
      },
      "text/plain": [
       "GPTaskWidget(lsid='urn:lsid:broad.mit.edu:cancer.software.genepattern.module.visualizer:00010')"
      ]
     },
     "metadata": {},
     "output_type": "display_data"
    }
   ],
   "source": [
    "heatmapviewer_task = gp.GPTask(genepattern.session.get(0), 'urn:lsid:broad.mit.edu:cancer.software.genepattern.module.visualizer:00010')\n",
    "heatmapviewer_job_spec = heatmapviewer_task.make_job_spec()\n",
    "heatmapviewer_job_spec.set_parameter(\"dataset\", \"\")\n",
    "genepattern.display(heatmapviewer_task)"
   ]
  },
  {
   "cell_type": "markdown",
   "metadata": {},
   "source": [
    "## Calculate ROCs for each gene set from the projections and assigned phenotype"
   ]
  },
  {
   "cell_type": "markdown",
   "metadata": {},
   "source": [
    "We will use the GenePattern ssGSEA_ROC module, which implements the R package ROCR<sup>4</sup> to analyze the coherence between an assigned phenotype for the samples (e.g. high or low expression of a specific marker gene) and enrichment of the selected gene sets. For each gene set, the Matthews correlation coefficient, the area under the curve (AUC), a two-sided wilcox test on the ssSGEA scores and a number of other metrics are calculated. The results are returned as a full (.txt) data table showing the scores and statistics for all gene sets, as well as a PDF plotting the top scored gene sets.\n",
    "\n",
    "For datasets with ≥7 samples in both phenotypes, ssGSEA_ROC utilizes a modified version of the GSEA phenotype permutation algorithm to calcualte GSEA style nominal (NOM) pValues and FDRs on the basis of permutation of the sample-to-phenotype assignments. "
   ]
  },
  {
   "cell_type": "markdown",
   "metadata": {},
   "source": [
    "<div class=\"alert alert-info\">\n",
    "<p class=\"lead\"> Instructions <i class=\"fa fa-info-circle\"></i></p>\n",
    "    \n",
    "- For the <b>PROJ gct</b> (ssGSEA Projection Matrix) parameter, click the \"Add File or URL...\" box and select output of the ssGSEA module (it should end with `.PROJ.gct`).\n",
    "\n",
    "- For the <b>CLS</b> (two phenotype CLS) file parameter, click the \"Add File or URL...\" box and select the `.CLS` file produced by TCGA.SampleSelection, or select the \"Upload File...\" button to provide the .CLS file with the phenotypic information (<a href=\"http://software.broadinstitute.org/cancer/software/genepattern/file-formats-guide#CLS\">read about CLS files here</a>)."
   ]
  },
  {
   "cell_type": "code",
   "execution_count": 13,
   "metadata": {
    "genepattern": {
     "description": "Generate ROC curves and calculate the AUC from ssGSEA results and a binary phenotype classification.",
     "name": "ssGSEA_ROC",
     "param_values": {
      "CLS": null,
      "PROJ.gct": null,
      "Plot.Top.Results": null,
      "Reverse": null,
      "job.cpuCount": null,
      "job.memory": null,
      "job.queue": null,
      "job.walltime": null
     },
     "type": "task"
    },
    "scrolled": true
   },
   "outputs": [
    {
     "data": {
      "application/vnd.jupyter.widget-view+json": {
       "model_id": "104050355b7e42f6a98c25b338a4e922",
       "version_major": 2,
       "version_minor": 0
      },
      "text/plain": [
       "GPTaskWidget(lsid='urn:lsid:8080.gpserver.ip-172-31-26-71.ip-172-31-26-71.ec2.internal:genepatternmodules:177'…"
      ]
     },
     "metadata": {},
     "output_type": "display_data"
    }
   ],
   "source": [
    "ssgsea_roc_task = gp.GPTask(genepattern.session.get(0), 'urn:lsid:8080.gpserver.ip-172-31-26-71.ip-172-31-26-71.ec2.internal:genepatternmodules:177')\n",
    "ssgsea_roc_job_spec = ssgsea_roc_task.make_job_spec()\n",
    "ssgsea_roc_job_spec.set_parameter(\"PROJ.gct\", \"\")\n",
    "ssgsea_roc_job_spec.set_parameter(\"CLS\", \"\")\n",
    "ssgsea_roc_job_spec.set_parameter(\"Reverse\", \"FALSE\")\n",
    "ssgsea_roc_job_spec.set_parameter(\"Plot.Top.Results\", \"20\")\n",
    "ssgsea_roc_job_spec.set_parameter(\"job.memory\", \"2 Gb\")\n",
    "ssgsea_roc_job_spec.set_parameter(\"job.queue\", \"gp-new-beta\")\n",
    "ssgsea_roc_job_spec.set_parameter(\"job.cpuCount\", \"1\")\n",
    "ssgsea_roc_job_spec.set_parameter(\"job.walltime\", \"02:00:00\")\n",
    "genepattern.display(ssgsea_roc_task)"
   ]
  },
  {
   "cell_type": "code",
   "execution_count": 7,
   "metadata": {
    "nbtools": {
     "description": "",
     "name": "View ssGSEA_ROC Results Table",
     "origin": "Notebook",
     "param_values": {
      "how_many": 15,
      "output_var": "input_data",
      "txt": []
     },
     "show_code": false,
     "type": "uibuilder"
    }
   },
   "outputs": [
    {
     "data": {
      "application/vnd.jupyter.widget-view+json": {
       "model_id": "af29f12e0d8045709a3c24c469300bbf",
       "version_major": 2,
       "version_minor": 0
      },
      "text/plain": [
       "UIBuilder(function_import='nbtools.tool(id=\"View ssGSEA_ROC Results Table\", origin=\"Notebook\").function_or_met…"
      ]
     },
     "metadata": {},
     "output_type": "display_data"
    },
    {
     "data": {
      "application/javascript": [
       "\n",
       "            NBToolManager.instance().register(new NBToolManager.NBTool({\n",
       "                origin: \"Notebook\",\n",
       "                id: \"View ssGSEA_ROC Results Table\",\n",
       "                name: \"View ssGSEA_ROC Results Table\",\n",
       "                description: \"\",\n",
       "                version: \"null\",\n",
       "                tags: null,\n",
       "                attributes: null,\n",
       "                load: function() { return true; },\n",
       "                render: function() { let code = \"nbtools.tool(id='View ssGSEA_ROC Results Table', origin='Notebook')\";\n",
       "                let cell = Jupyter.notebook.get_selected_cell();\n",
       "                const is_empty = cell.get_text().trim() === \"\";\n",
       "\n",
       "                // If this cell is not empty, insert a new cell and use that\n",
       "                // Otherwise just use this cell\n",
       "                if (!is_empty) {\n",
       "                    cell = Jupyter.notebook.insert_cell_below();\n",
       "                    Jupyter.notebook.select_next();\n",
       "                }\n",
       "\n",
       "                cell.set_text(code);\n",
       "                cell.execute();\n",
       "\n",
       "                return cell; },\n",
       "            }));"
      ]
     },
     "metadata": {},
     "output_type": "display_data"
    }
   ],
   "source": [
    "import pandas as pd\n",
    "from io import BytesIO\n",
    "import os\n",
    "#import qgrid # qgrid is not installed in this kernel it may be in the python3.9\n",
    "\n",
    "@genepattern.build_ui(parameters={\n",
    "    \"txt\": {\n",
    "        \"name\": \"File to load\",\n",
    "        \"description\": \"The TXT file to load.\",\n",
    "        \"type\": \"file\",\n",
    "        \"kinds\": [\".Results.txt\"]\n",
    "    },\n",
    "    \"how_many\": {\n",
    "        \"name\": \"Rows to display\",\n",
    "        \"description\": \"How many rows to display\",\n",
    "        \"type\": \"int\",\n",
    "        \"default\": 5\n",
    "    },\n",
    "    \"output_var\": {\n",
    "        \"hide\": True,\n",
    "        \"default\": \"input_data\",\n",
    "        \"name\": \"input_data\"\n",
    "    }\n",
    "}, name=\"View ssGSEA_ROC Results Table\")\n",
    "def read_txt(txt,how_many):\n",
    "    print(txt)\n",
    "    r = gp.GPFile(genepattern.session.sessions[0], txt)\n",
    "    df = pd.read_table(BytesIO(r.open().read()),index_col=0)\n",
    "    display(df.head(how_many))\n",
    "    # qgrid is not installed in this kernel, if it were, you'd use:\n",
    "    #display(qgrid.show_grid(df,precision=2,grid_options={'editable': False,'maxVisibleRows': how_many}))\n",
    "    "
   ]
  },
  {
   "cell_type": "markdown",
   "metadata": {},
   "source": [
    "## Interpreting Results"
   ]
  },
  {
   "cell_type": "markdown",
   "metadata": {},
   "source": [
    "The ssGSEA_ROC file produces two outputs, a PDF and a TSV. \n",
    "- The PDF contains the plotted ROC curves with cutoff values, corresponding boxplots of the ssGSEA scores, and Wilcox pValues for the number of sets selected by the Plot Top Results parameter.\n",
    "- The TSV file is a tab delimited text file that contains the complete statistics for all gene sets that were included in the `.PROJ.GCT`.\n",
    "\n",
    "The gene sets enriched in the first phenotype (or second phenotype if Reverse=TRUE) will exhibit positive MCCs, and AUCs >0.5.\n",
    "The gene sets enriched in the second phenotype (or first phenotype if Reverse=TRUE) will exhibit negative MCCs, and AUCs <0.5."
   ]
  },
  {
   "cell_type": "markdown",
   "metadata": {},
   "source": [
    "# References"
   ]
  },
  {
   "cell_type": "markdown",
   "metadata": {},
   "source": [
    "1. Barbie DA, Tamayo P, et al. Systematic RNA interference reveals that oncogenic KRAS-driven cancers require TBK1. Nature. 2009;462:108-112. https://pubmed.ncbi.nlm.nih.gov/19847166/\n",
    "\n",
    "2. Benitez JA, Finlay D, Castanza A, Parisian AD, Ma J, Longobardi C, Campos A, Vadla R, Izurieta A, Scerra G, Koga T, Long T, Chavez L, Mesirov JP, Vuori K, Furnari F. PTEN deficiency leads to proteasome addiction: a novel vulnerability in glioblastoma. Neuro Oncol. 2021 Jul 1;23(7):1072-1086. doi: 10.1093/neuonc/noab001. PMID: 33428749.\n",
    "\n",
    "3. Chicco, D., Jurman, G. The advantages of the Matthews correlation coefficient (MCC) over F1 score and accuracy in binary classification evaluation. BMC Genomics 2020;21:6. https://doi.org/10.1186/s12864-019-6413-7\n",
    "\n",
    "4. Sing T, Sander O, Beerenwinkel N, Lengauer T. ROCR: visualizing classifier performance in R. Bioinformatics. 2005;21(20):3940-3941. https://doi.org/10.1093/bioinformatics/bti623\n",
    "\n",
    "5. Subramanian A, Tamayo P, Mootha VK, Mukherjee S, Ebert BL, Gillette MA, Paulovich A, Pomeroy SL, Golub TR, Lander ES, Mesirov JP. Gene set enrichment analysis: A knowledge-based approach for interpreting genome-wide expression profiles. PNAS. 2005;102(43):15545-15550. http://www.pnas.org/content/102/43/15545.abstract\n",
    "\n",
    "\n",
    "- MSigDB website (http://www.msigdb.org)\n",
    "- GSEA website (https://www.gsea-msigdb.org)\n"
   ]
  }
 ],
 "metadata": {
  "genepattern": {
   "repository_url": "http://notebook.genepattern.org/services/sharing/notebooks/408/"
  },
  "kernelspec": {
   "display_name": "Python 3.7",
   "language": "python",
   "name": "python3.7"
  },
  "language_info": {
   "codemirror_mode": {
    "name": "ipython",
    "version": 3
   },
   "file_extension": ".py",
   "mimetype": "text/x-python",
   "name": "python",
   "nbconvert_exporter": "python",
   "pygments_lexer": "ipython3",
   "version": "3.7.10"
  },
  "toc": {
   "base_numbering": 1,
   "nav_menu": {},
   "number_sections": false,
   "sideBar": true,
   "skip_h1_title": false,
   "title_cell": "Table of Contents",
   "title_sidebar": "Contents",
   "toc_cell": false,
   "toc_position": {
    "height": "calc(100% - 180px)",
    "left": "10px",
    "top": "150px",
    "width": "384px"
   },
   "toc_section_display": true,
   "toc_window_display": true
  }
 },
 "nbformat": 4,
 "nbformat_minor": 4
}
